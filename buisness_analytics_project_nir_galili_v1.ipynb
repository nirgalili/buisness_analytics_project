{
 "cells": [
  {
   "cell_type": "markdown",
   "id": "4af3bbea",
   "metadata": {},
   "source": [
    "# Step 1. Download the data and prepare it for analysis"
   ]
  },
  {
   "cell_type": "markdown",
   "id": "31a2b107",
   "metadata": {},
   "source": [
    "## Project description\n",
    "As an internship in the analytical department at Yandex.Afisha our first task is to help optimize marketing expenses.\n"
   ]
  },
  {
   "cell_type": "markdown",
   "id": "8006e477",
   "metadata": {},
   "source": [
    "## Import"
   ]
  },
  {
   "cell_type": "code",
   "execution_count": 53,
   "id": "ed3dbe71",
   "metadata": {},
   "outputs": [
    {
     "name": "stdout",
     "output_type": "stream",
     "text": [
      "Requirement already satisfied: plotly==5.5.0 in c:\\users\\nirga\\anaconda3\\lib\\site-packages (5.5.0)\n",
      "Requirement already satisfied: six in c:\\users\\nirga\\anaconda3\\lib\\site-packages (from plotly==5.5.0) (1.16.0)\n",
      "Requirement already satisfied: tenacity>=6.2.0 in c:\\users\\nirga\\anaconda3\\lib\\site-packages (from plotly==5.5.0) (8.0.1)\n"
     ]
    }
   ],
   "source": [
    "try:\n",
    "    !pip install -U plotly==5.5.0\n",
    "    import plotly.express as px\n",
    "except:\n",
    "    !pip install plotly==5.5.0 #installing plotly\n",
    "    import plotly.express as px"
   ]
  },
  {
   "cell_type": "code",
   "execution_count": 54,
   "id": "bf6c024e",
   "metadata": {},
   "outputs": [
    {
     "name": "stdout",
     "output_type": "stream",
     "text": [
      "Requirement already satisfied: sidetable in c:\\users\\nirga\\anaconda3\\lib\\site-packages (0.9.0)\n",
      "Requirement already satisfied: pandas>=1.0 in c:\\users\\nirga\\anaconda3\\lib\\site-packages (from sidetable) (1.3.4)\n",
      "Requirement already satisfied: python-dateutil>=2.7.3 in c:\\users\\nirga\\anaconda3\\lib\\site-packages (from pandas>=1.0->sidetable) (2.8.2)\n",
      "Requirement already satisfied: pytz>=2017.3 in c:\\users\\nirga\\anaconda3\\lib\\site-packages (from pandas>=1.0->sidetable) (2021.3)\n",
      "Requirement already satisfied: numpy>=1.17.3 in c:\\users\\nirga\\anaconda3\\lib\\site-packages (from pandas>=1.0->sidetable) (1.20.3)\n",
      "Requirement already satisfied: six>=1.5 in c:\\users\\nirga\\anaconda3\\lib\\site-packages (from python-dateutil>=2.7.3->pandas>=1.0->sidetable) (1.16.0)\n",
      "Note: you may need to restart the kernel to use updated packages.\n"
     ]
    }
   ],
   "source": [
    "pip install sidetable"
   ]
  },
  {
   "cell_type": "code",
   "execution_count": 55,
   "id": "6438b4f3",
   "metadata": {},
   "outputs": [],
   "source": [
    "import pandas as pd\n",
    "import numpy as np\n",
    "import plotly.express as px\n",
    "from scipy import stats as st\n",
    "import matplotlib.pyplot as plt\n",
    "import sidetable\n",
    "\n",
    "%matplotlib inline"
   ]
  },
  {
   "cell_type": "markdown",
   "id": "5c58689c",
   "metadata": {},
   "source": [
    "## Load data"
   ]
  },
  {
   "cell_type": "code",
   "execution_count": 56,
   "id": "635a32cd",
   "metadata": {},
   "outputs": [],
   "source": [
    "try:\n",
    "    visits = pd.read_csv('visits_log_us.csv')\n",
    "except:\n",
    "    visits = pd.read_csv('/datasets/visits_log_us.csv')\n",
    "\n",
    "try:\n",
    "    orders = pd.read_csv('orders_log_us.csv')\n",
    "except:\n",
    "    orders = pd.read_csv('/datasets/orders_log_us.csv')\n",
    "    \n",
    "try:\n",
    "    costs = pd.read_csv('costs_us.csv')\n",
    "except:\n",
    "    costs = pd.read_csv('/datasets/costs_us.csv')\n",
    "                         "
   ]
  },
  {
   "cell_type": "markdown",
   "id": "a313e27d",
   "metadata": {},
   "source": [
    "## prepare data for analysis"
   ]
  },
  {
   "cell_type": "markdown",
   "id": "da9ecfff",
   "metadata": {},
   "source": [
    "### visits"
   ]
  },
  {
   "cell_type": "markdown",
   "id": "9211d4f4",
   "metadata": {},
   "source": [
    "The visits table (server logs with data on website visits):\n",
    "- Uid — user's unique identifier\n",
    "- Device — user's device\n",
    "- Start Ts — session start date and time\n",
    "- End Ts — session end date and time\n",
    "- Source Id — identifier of the ad source the user came from"
   ]
  },
  {
   "cell_type": "code",
   "execution_count": 57,
   "id": "94aa7bea",
   "metadata": {},
   "outputs": [
    {
     "data": {
      "text/html": [
       "<div>\n",
       "<style scoped>\n",
       "    .dataframe tbody tr th:only-of-type {\n",
       "        vertical-align: middle;\n",
       "    }\n",
       "\n",
       "    .dataframe tbody tr th {\n",
       "        vertical-align: top;\n",
       "    }\n",
       "\n",
       "    .dataframe thead th {\n",
       "        text-align: right;\n",
       "    }\n",
       "</style>\n",
       "<table border=\"1\" class=\"dataframe\">\n",
       "  <thead>\n",
       "    <tr style=\"text-align: right;\">\n",
       "      <th></th>\n",
       "      <th>Device</th>\n",
       "      <th>End Ts</th>\n",
       "      <th>Source Id</th>\n",
       "      <th>Start Ts</th>\n",
       "      <th>Uid</th>\n",
       "    </tr>\n",
       "  </thead>\n",
       "  <tbody>\n",
       "    <tr>\n",
       "      <th>0</th>\n",
       "      <td>touch</td>\n",
       "      <td>2017-12-20 17:38:00</td>\n",
       "      <td>4</td>\n",
       "      <td>2017-12-20 17:20:00</td>\n",
       "      <td>16879256277535980062</td>\n",
       "    </tr>\n",
       "    <tr>\n",
       "      <th>1</th>\n",
       "      <td>desktop</td>\n",
       "      <td>2018-02-19 17:21:00</td>\n",
       "      <td>2</td>\n",
       "      <td>2018-02-19 16:53:00</td>\n",
       "      <td>104060357244891740</td>\n",
       "    </tr>\n",
       "    <tr>\n",
       "      <th>2</th>\n",
       "      <td>touch</td>\n",
       "      <td>2017-07-01 01:54:00</td>\n",
       "      <td>5</td>\n",
       "      <td>2017-07-01 01:54:00</td>\n",
       "      <td>7459035603376831527</td>\n",
       "    </tr>\n",
       "    <tr>\n",
       "      <th>3</th>\n",
       "      <td>desktop</td>\n",
       "      <td>2018-05-20 11:23:00</td>\n",
       "      <td>9</td>\n",
       "      <td>2018-05-20 10:59:00</td>\n",
       "      <td>16174680259334210214</td>\n",
       "    </tr>\n",
       "    <tr>\n",
       "      <th>4</th>\n",
       "      <td>desktop</td>\n",
       "      <td>2017-12-27 14:06:00</td>\n",
       "      <td>3</td>\n",
       "      <td>2017-12-27 14:06:00</td>\n",
       "      <td>9969694820036681168</td>\n",
       "    </tr>\n",
       "  </tbody>\n",
       "</table>\n",
       "</div>"
      ],
      "text/plain": [
       "    Device               End Ts  Source Id             Start Ts  \\\n",
       "0    touch  2017-12-20 17:38:00          4  2017-12-20 17:20:00   \n",
       "1  desktop  2018-02-19 17:21:00          2  2018-02-19 16:53:00   \n",
       "2    touch  2017-07-01 01:54:00          5  2017-07-01 01:54:00   \n",
       "3  desktop  2018-05-20 11:23:00          9  2018-05-20 10:59:00   \n",
       "4  desktop  2017-12-27 14:06:00          3  2017-12-27 14:06:00   \n",
       "\n",
       "                    Uid  \n",
       "0  16879256277535980062  \n",
       "1    104060357244891740  \n",
       "2   7459035603376831527  \n",
       "3  16174680259334210214  \n",
       "4   9969694820036681168  "
      ]
     },
     "execution_count": 57,
     "metadata": {},
     "output_type": "execute_result"
    }
   ],
   "source": [
    "visits.head()"
   ]
  },
  {
   "cell_type": "code",
   "execution_count": 58,
   "id": "d4069426",
   "metadata": {},
   "outputs": [
    {
     "name": "stdout",
     "output_type": "stream",
     "text": [
      "<class 'pandas.core.frame.DataFrame'>\n",
      "RangeIndex: 359400 entries, 0 to 359399\n",
      "Data columns (total 5 columns):\n",
      " #   Column     Non-Null Count   Dtype \n",
      "---  ------     --------------   ----- \n",
      " 0   Device     359400 non-null  object\n",
      " 1   End Ts     359400 non-null  object\n",
      " 2   Source Id  359400 non-null  int64 \n",
      " 3   Start Ts   359400 non-null  object\n",
      " 4   Uid        359400 non-null  uint64\n",
      "dtypes: int64(1), object(3), uint64(1)\n",
      "memory usage: 13.7+ MB\n"
     ]
    }
   ],
   "source": [
    "visits.info()"
   ]
  },
  {
   "cell_type": "code",
   "execution_count": 59,
   "id": "9da2b967",
   "metadata": {},
   "outputs": [
    {
     "data": {
      "text/plain": [
       "desktop    262567\n",
       "touch       96833\n",
       "Name: Device, dtype: int64"
      ]
     },
     "execution_count": 59,
     "metadata": {},
     "output_type": "execute_result"
    }
   ],
   "source": [
    "visits['Device'].value_counts()"
   ]
  },
  {
   "cell_type": "code",
   "execution_count": 60,
   "id": "36816089",
   "metadata": {},
   "outputs": [],
   "source": [
    "visits['Device'] = visits['Device'].astype('category')"
   ]
  },
  {
   "cell_type": "code",
   "execution_count": 61,
   "id": "37a87149",
   "metadata": {},
   "outputs": [],
   "source": [
    "visits['Start Ts'] =  pd.to_datetime(visits['Start Ts'], format=\"%Y-%m-%d %H:%M:%S\")\n",
    "visits['End Ts'] =  pd.to_datetime(visits['End Ts'], format=\"%Y-%m-%d %H:%M:%S\") "
   ]
  },
  {
   "cell_type": "code",
   "execution_count": 62,
   "id": "2b1d6b13",
   "metadata": {},
   "outputs": [
    {
     "name": "stdout",
     "output_type": "stream",
     "text": [
      "<class 'pandas.core.frame.DataFrame'>\n",
      "RangeIndex: 359400 entries, 0 to 359399\n",
      "Data columns (total 5 columns):\n",
      " #   Column     Non-Null Count   Dtype         \n",
      "---  ------     --------------   -----         \n",
      " 0   Device     359400 non-null  category      \n",
      " 1   End Ts     359400 non-null  datetime64[ns]\n",
      " 2   Source Id  359400 non-null  int64         \n",
      " 3   Start Ts   359400 non-null  datetime64[ns]\n",
      " 4   Uid        359400 non-null  uint64        \n",
      "dtypes: category(1), datetime64[ns](2), int64(1), uint64(1)\n",
      "memory usage: 11.3 MB\n"
     ]
    }
   ],
   "source": [
    "visits.info()"
   ]
  },
  {
   "cell_type": "markdown",
   "id": "64ea00f2",
   "metadata": {},
   "source": [
    "Reduced +2MB and format data type"
   ]
  },
  {
   "cell_type": "markdown",
   "id": "435a96b5",
   "metadata": {},
   "source": [
    "### orders"
   ]
  },
  {
   "cell_type": "markdown",
   "id": "7e532883",
   "metadata": {},
   "source": [
    "The orders table (data on orders):\n",
    "- Uid — unique identifier of the user making an order\n",
    "- Buy Ts — order date and time\n",
    "- Revenue — Yandex.Afisha's revenue from the order"
   ]
  },
  {
   "cell_type": "code",
   "execution_count": 63,
   "id": "ce16d347",
   "metadata": {},
   "outputs": [
    {
     "data": {
      "text/html": [
       "<div>\n",
       "<style scoped>\n",
       "    .dataframe tbody tr th:only-of-type {\n",
       "        vertical-align: middle;\n",
       "    }\n",
       "\n",
       "    .dataframe tbody tr th {\n",
       "        vertical-align: top;\n",
       "    }\n",
       "\n",
       "    .dataframe thead th {\n",
       "        text-align: right;\n",
       "    }\n",
       "</style>\n",
       "<table border=\"1\" class=\"dataframe\">\n",
       "  <thead>\n",
       "    <tr style=\"text-align: right;\">\n",
       "      <th></th>\n",
       "      <th>Buy Ts</th>\n",
       "      <th>Revenue</th>\n",
       "      <th>Uid</th>\n",
       "    </tr>\n",
       "  </thead>\n",
       "  <tbody>\n",
       "    <tr>\n",
       "      <th>0</th>\n",
       "      <td>2017-06-01 00:10:00</td>\n",
       "      <td>17.00</td>\n",
       "      <td>10329302124590727494</td>\n",
       "    </tr>\n",
       "    <tr>\n",
       "      <th>1</th>\n",
       "      <td>2017-06-01 00:25:00</td>\n",
       "      <td>0.55</td>\n",
       "      <td>11627257723692907447</td>\n",
       "    </tr>\n",
       "    <tr>\n",
       "      <th>2</th>\n",
       "      <td>2017-06-01 00:27:00</td>\n",
       "      <td>0.37</td>\n",
       "      <td>17903680561304213844</td>\n",
       "    </tr>\n",
       "    <tr>\n",
       "      <th>3</th>\n",
       "      <td>2017-06-01 00:29:00</td>\n",
       "      <td>0.55</td>\n",
       "      <td>16109239769442553005</td>\n",
       "    </tr>\n",
       "    <tr>\n",
       "      <th>4</th>\n",
       "      <td>2017-06-01 07:58:00</td>\n",
       "      <td>0.37</td>\n",
       "      <td>14200605875248379450</td>\n",
       "    </tr>\n",
       "  </tbody>\n",
       "</table>\n",
       "</div>"
      ],
      "text/plain": [
       "                Buy Ts  Revenue                   Uid\n",
       "0  2017-06-01 00:10:00    17.00  10329302124590727494\n",
       "1  2017-06-01 00:25:00     0.55  11627257723692907447\n",
       "2  2017-06-01 00:27:00     0.37  17903680561304213844\n",
       "3  2017-06-01 00:29:00     0.55  16109239769442553005\n",
       "4  2017-06-01 07:58:00     0.37  14200605875248379450"
      ]
     },
     "execution_count": 63,
     "metadata": {},
     "output_type": "execute_result"
    }
   ],
   "source": [
    "orders.head()"
   ]
  },
  {
   "cell_type": "code",
   "execution_count": 64,
   "id": "68361f0f",
   "metadata": {},
   "outputs": [
    {
     "name": "stdout",
     "output_type": "stream",
     "text": [
      "<class 'pandas.core.frame.DataFrame'>\n",
      "RangeIndex: 50415 entries, 0 to 50414\n",
      "Data columns (total 3 columns):\n",
      " #   Column   Non-Null Count  Dtype  \n",
      "---  ------   --------------  -----  \n",
      " 0   Buy Ts   50415 non-null  object \n",
      " 1   Revenue  50415 non-null  float64\n",
      " 2   Uid      50415 non-null  uint64 \n",
      "dtypes: float64(1), object(1), uint64(1)\n",
      "memory usage: 1.2+ MB\n"
     ]
    }
   ],
   "source": [
    "orders.info()"
   ]
  },
  {
   "cell_type": "code",
   "execution_count": 65,
   "id": "57d42ea8",
   "metadata": {},
   "outputs": [],
   "source": [
    "orders['Buy Ts'] =  pd.to_datetime(orders['Buy Ts'], format=\"%Y-%m-%d %H:%M:%S\")"
   ]
  },
  {
   "cell_type": "code",
   "execution_count": 66,
   "id": "eedba5d3",
   "metadata": {},
   "outputs": [
    {
     "name": "stdout",
     "output_type": "stream",
     "text": [
      "<class 'pandas.core.frame.DataFrame'>\n",
      "RangeIndex: 50415 entries, 0 to 50414\n",
      "Data columns (total 3 columns):\n",
      " #   Column   Non-Null Count  Dtype         \n",
      "---  ------   --------------  -----         \n",
      " 0   Buy Ts   50415 non-null  datetime64[ns]\n",
      " 1   Revenue  50415 non-null  float64       \n",
      " 2   Uid      50415 non-null  uint64        \n",
      "dtypes: datetime64[ns](1), float64(1), uint64(1)\n",
      "memory usage: 1.2 MB\n"
     ]
    }
   ],
   "source": [
    "orders.info()"
   ]
  },
  {
   "cell_type": "markdown",
   "id": "b06bcea1",
   "metadata": {},
   "source": [
    "Reduced size by portion and format data type"
   ]
  },
  {
   "cell_type": "markdown",
   "id": "21aef241",
   "metadata": {},
   "source": [
    "### costs"
   ]
  },
  {
   "cell_type": "markdown",
   "id": "e5acf6b1",
   "metadata": {},
   "source": [
    "The costs table (data on marketing expenses):\n",
    "- source_id — ad source identifier\n",
    "- dt — date\n",
    "- costs — expenses on this ad source on this day"
   ]
  },
  {
   "cell_type": "code",
   "execution_count": 67,
   "id": "e884680e",
   "metadata": {},
   "outputs": [
    {
     "data": {
      "text/html": [
       "<div>\n",
       "<style scoped>\n",
       "    .dataframe tbody tr th:only-of-type {\n",
       "        vertical-align: middle;\n",
       "    }\n",
       "\n",
       "    .dataframe tbody tr th {\n",
       "        vertical-align: top;\n",
       "    }\n",
       "\n",
       "    .dataframe thead th {\n",
       "        text-align: right;\n",
       "    }\n",
       "</style>\n",
       "<table border=\"1\" class=\"dataframe\">\n",
       "  <thead>\n",
       "    <tr style=\"text-align: right;\">\n",
       "      <th></th>\n",
       "      <th>source_id</th>\n",
       "      <th>dt</th>\n",
       "      <th>costs</th>\n",
       "    </tr>\n",
       "  </thead>\n",
       "  <tbody>\n",
       "    <tr>\n",
       "      <th>0</th>\n",
       "      <td>1</td>\n",
       "      <td>2017-06-01</td>\n",
       "      <td>75.20</td>\n",
       "    </tr>\n",
       "    <tr>\n",
       "      <th>1</th>\n",
       "      <td>1</td>\n",
       "      <td>2017-06-02</td>\n",
       "      <td>62.25</td>\n",
       "    </tr>\n",
       "    <tr>\n",
       "      <th>2</th>\n",
       "      <td>1</td>\n",
       "      <td>2017-06-03</td>\n",
       "      <td>36.53</td>\n",
       "    </tr>\n",
       "    <tr>\n",
       "      <th>3</th>\n",
       "      <td>1</td>\n",
       "      <td>2017-06-04</td>\n",
       "      <td>55.00</td>\n",
       "    </tr>\n",
       "    <tr>\n",
       "      <th>4</th>\n",
       "      <td>1</td>\n",
       "      <td>2017-06-05</td>\n",
       "      <td>57.08</td>\n",
       "    </tr>\n",
       "  </tbody>\n",
       "</table>\n",
       "</div>"
      ],
      "text/plain": [
       "   source_id          dt  costs\n",
       "0          1  2017-06-01  75.20\n",
       "1          1  2017-06-02  62.25\n",
       "2          1  2017-06-03  36.53\n",
       "3          1  2017-06-04  55.00\n",
       "4          1  2017-06-05  57.08"
      ]
     },
     "execution_count": 67,
     "metadata": {},
     "output_type": "execute_result"
    }
   ],
   "source": [
    "costs.head()"
   ]
  },
  {
   "cell_type": "code",
   "execution_count": 68,
   "id": "d955d6d0",
   "metadata": {},
   "outputs": [
    {
     "name": "stdout",
     "output_type": "stream",
     "text": [
      "<class 'pandas.core.frame.DataFrame'>\n",
      "RangeIndex: 2542 entries, 0 to 2541\n",
      "Data columns (total 3 columns):\n",
      " #   Column     Non-Null Count  Dtype  \n",
      "---  ------     --------------  -----  \n",
      " 0   source_id  2542 non-null   int64  \n",
      " 1   dt         2542 non-null   object \n",
      " 2   costs      2542 non-null   float64\n",
      "dtypes: float64(1), int64(1), object(1)\n",
      "memory usage: 59.7+ KB\n"
     ]
    }
   ],
   "source": [
    "costs.info()"
   ]
  },
  {
   "cell_type": "code",
   "execution_count": 69,
   "id": "39ecca95",
   "metadata": {},
   "outputs": [],
   "source": [
    "costs['dt'] =  pd.to_datetime(costs['dt'], format=\"%Y-%m-%d\")"
   ]
  },
  {
   "cell_type": "code",
   "execution_count": 70,
   "id": "1d7f3708",
   "metadata": {},
   "outputs": [
    {
     "name": "stdout",
     "output_type": "stream",
     "text": [
      "<class 'pandas.core.frame.DataFrame'>\n",
      "RangeIndex: 2542 entries, 0 to 2541\n",
      "Data columns (total 3 columns):\n",
      " #   Column     Non-Null Count  Dtype         \n",
      "---  ------     --------------  -----         \n",
      " 0   source_id  2542 non-null   int64         \n",
      " 1   dt         2542 non-null   datetime64[ns]\n",
      " 2   costs      2542 non-null   float64       \n",
      "dtypes: datetime64[ns](1), float64(1), int64(1)\n",
      "memory usage: 59.7 KB\n"
     ]
    }
   ],
   "source": [
    "costs.info()"
   ]
  },
  {
   "cell_type": "markdown",
   "id": "695acf0f",
   "metadata": {},
   "source": [
    "Reduced size by portion and format data type"
   ]
  },
  {
   "cell_type": "markdown",
   "id": "71b28e59",
   "metadata": {},
   "source": [
    "# Step 2. Make reports and calculate metrics:"
   ]
  },
  {
   "cell_type": "markdown",
   "id": "95c9a098",
   "metadata": {},
   "source": [
    "## Product"
   ]
  },
  {
   "cell_type": "markdown",
   "id": "34135db7",
   "metadata": {},
   "source": [
    "### How many people use it every day, week, and month?"
   ]
  },
  {
   "cell_type": "markdown",
   "id": "89c81418",
   "metadata": {},
   "source": [
    "### How many sessions are there per day? (One user might have more than one session.)"
   ]
  },
  {
   "cell_type": "markdown",
   "id": "17c27dee",
   "metadata": {},
   "source": [
    "### What is the length of each session?"
   ]
  },
  {
   "cell_type": "markdown",
   "id": "f8203a47",
   "metadata": {},
   "source": [
    "### How often do users come back?"
   ]
  },
  {
   "cell_type": "markdown",
   "id": "3973bde7",
   "metadata": {},
   "source": [
    "## Sales"
   ]
  },
  {
   "cell_type": "markdown",
   "id": "cf27a689",
   "metadata": {},
   "source": [
    "### When do people start buying?\n",
    "In KPI analysis, we're usually interested in knowing the time that elapses between registration and conversion — when the user becomes a customer. For example, if registration and the first purchase occur on the same day, the user might fall into category Conversion 0d. If the first purchase happens the next day, it will be Conversion 1d. You can use any approach that lets you compare the conversions of different cohorts, so that you can determine which cohort, or marketing channel, is most effective."
   ]
  },
  {
   "cell_type": "markdown",
   "id": "ac5b3f0c",
   "metadata": {},
   "source": [
    "### How many orders do they make during a given period of time?"
   ]
  },
  {
   "cell_type": "markdown",
   "id": "332abccb",
   "metadata": {},
   "source": [
    "### What is the average purchase size?"
   ]
  },
  {
   "cell_type": "markdown",
   "id": "d5ab0e51",
   "metadata": {},
   "source": [
    "### How much money do they bring? (LTV)"
   ]
  },
  {
   "cell_type": "markdown",
   "id": "59c7f9b8",
   "metadata": {},
   "source": [
    "## Marketing"
   ]
  },
  {
   "cell_type": "markdown",
   "id": "213b0491",
   "metadata": {},
   "source": [
    "### How much money was spent? Overall/per source/over time "
   ]
  },
  {
   "cell_type": "markdown",
   "id": "0c131a7a",
   "metadata": {},
   "source": [
    "### How much did customer acquisition from each of the sources cost?"
   ]
  },
  {
   "cell_type": "markdown",
   "id": "c7b5f04a",
   "metadata": {},
   "source": [
    "### How worthwhile where the investments? (ROI)"
   ]
  }
 ],
 "metadata": {
  "kernelspec": {
   "display_name": "Python 3 (ipykernel)",
   "language": "python",
   "name": "python3"
  },
  "language_info": {
   "codemirror_mode": {
    "name": "ipython",
    "version": 3
   },
   "file_extension": ".py",
   "mimetype": "text/x-python",
   "name": "python",
   "nbconvert_exporter": "python",
   "pygments_lexer": "ipython3",
   "version": "3.9.7"
  },
  "toc": {
   "base_numbering": 1,
   "nav_menu": {},
   "number_sections": true,
   "sideBar": true,
   "skip_h1_title": false,
   "title_cell": "Table of Contents",
   "title_sidebar": "Contents",
   "toc_cell": false,
   "toc_position": {},
   "toc_section_display": true,
   "toc_window_display": false
  }
 },
 "nbformat": 4,
 "nbformat_minor": 5
}
